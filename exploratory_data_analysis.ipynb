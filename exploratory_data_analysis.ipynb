{
 "cells": [
  {
   "cell_type": "markdown",
   "metadata": {},
   "source": [
    "# Hotel Booking Demand "
   ]
  },
  {
   "cell_type": "markdown",
   "metadata": {},
   "source": [
    "In this notebook we will go through some details regarding hotel booking information by doing exploratory data analysis.\n",
    "Some of the things we are going to explore are:\n",
    "- Number of guests by countries\n",
    "- Types of deposits made by guests\n",
    "- Number of repeated guests\n",
    "- Number of bookings by market segment\n",
    "- Length of stay\n",
    "- Average room prices per night\n",
    "- Room price variation over the years\n",
    "- Average daily rate by market segment\n",
    "<br>\n",
    "\n",
    "Next, in a separate notebook we will go deeper into comparing canceled and non canceled bookings and predicting cancelation using machine learning models, along with the model evaluation."
   ]
  },
  {
   "cell_type": "code",
   "execution_count": 1,
   "metadata": {},
   "outputs": [],
   "source": [
    "import pandas as pd\n",
    "import numpy as np\n",
    "import matplotlib.pyplot as plt\n",
    "%matplotlib inline\n",
    "import seaborn as sns\n",
    "sns.set()\n",
    "import warnings\n",
    "warnings.filterwarnings('ignore')\n",
    "import os"
   ]
  },
  {
   "cell_type": "markdown",
   "metadata": {},
   "source": [
    "The dataset we will use originally comes from the article \"Hotel Booking Demand Datasets\" (https://www.sciencedirect.com/science/article/pii/S2352340918315191#bib5) written by Nuno Antonio, Ana Almeida, and Luis Nunes for Data in Brief, Volume 22, February 2019.\n",
    "<br>\n",
    "\n",
    "This data set contains booking information for a city hotel and a resort hotel in Portugal, and includes information such as when the booking was made, length of stay, the number of adults, children, and/or babies, and the number of cancelations, among other things.\n",
    "<br>\n",
    "All personally identifying information has been removed from the data.\n",
    "<br>\n",
    "\n",
    "Each observation represents a hotel booking. Both datasets comprehend bookings due to arrive between the 1st of July of 2015 and the 31st of August 2017, including bookings that effectively arrived and bookings that were canceled."
   ]
  },
  {
   "cell_type": "code",
   "execution_count": 2,
   "metadata": {},
   "outputs": [],
   "source": [
    "os.chdir('/Users/neera/Documents/PROJECTS/Hotel Booking')\n",
    "data = pd.read_csv('hotel_bookings.csv')"
   ]
  },
  {
   "cell_type": "code",
   "execution_count": 3,
   "metadata": {},
   "outputs": [
    {
     "data": {
      "text/html": [
       "<div>\n",
       "<style scoped>\n",
       "    .dataframe tbody tr th:only-of-type {\n",
       "        vertical-align: middle;\n",
       "    }\n",
       "\n",
       "    .dataframe tbody tr th {\n",
       "        vertical-align: top;\n",
       "    }\n",
       "\n",
       "    .dataframe thead th {\n",
       "        text-align: right;\n",
       "    }\n",
       "</style>\n",
       "<table border=\"1\" class=\"dataframe\">\n",
       "  <thead>\n",
       "    <tr style=\"text-align: right;\">\n",
       "      <th></th>\n",
       "      <th>hotel</th>\n",
       "      <th>is_canceled</th>\n",
       "      <th>lead_time</th>\n",
       "      <th>arrival_date_year</th>\n",
       "      <th>arrival_date_month</th>\n",
       "      <th>arrival_date_week_number</th>\n",
       "      <th>arrival_date_day_of_month</th>\n",
       "      <th>stays_in_weekend_nights</th>\n",
       "      <th>stays_in_week_nights</th>\n",
       "      <th>adults</th>\n",
       "      <th>...</th>\n",
       "      <th>deposit_type</th>\n",
       "      <th>agent</th>\n",
       "      <th>company</th>\n",
       "      <th>days_in_waiting_list</th>\n",
       "      <th>customer_type</th>\n",
       "      <th>adr</th>\n",
       "      <th>required_car_parking_spaces</th>\n",
       "      <th>total_of_special_requests</th>\n",
       "      <th>reservation_status</th>\n",
       "      <th>reservation_status_date</th>\n",
       "    </tr>\n",
       "  </thead>\n",
       "  <tbody>\n",
       "    <tr>\n",
       "      <td>0</td>\n",
       "      <td>Resort Hotel</td>\n",
       "      <td>0</td>\n",
       "      <td>342</td>\n",
       "      <td>2015</td>\n",
       "      <td>July</td>\n",
       "      <td>27</td>\n",
       "      <td>1</td>\n",
       "      <td>0</td>\n",
       "      <td>0</td>\n",
       "      <td>2</td>\n",
       "      <td>...</td>\n",
       "      <td>No Deposit</td>\n",
       "      <td>NaN</td>\n",
       "      <td>NaN</td>\n",
       "      <td>0</td>\n",
       "      <td>Transient</td>\n",
       "      <td>0.0</td>\n",
       "      <td>0</td>\n",
       "      <td>0</td>\n",
       "      <td>Check-Out</td>\n",
       "      <td>2015-07-01</td>\n",
       "    </tr>\n",
       "    <tr>\n",
       "      <td>1</td>\n",
       "      <td>Resort Hotel</td>\n",
       "      <td>0</td>\n",
       "      <td>737</td>\n",
       "      <td>2015</td>\n",
       "      <td>July</td>\n",
       "      <td>27</td>\n",
       "      <td>1</td>\n",
       "      <td>0</td>\n",
       "      <td>0</td>\n",
       "      <td>2</td>\n",
       "      <td>...</td>\n",
       "      <td>No Deposit</td>\n",
       "      <td>NaN</td>\n",
       "      <td>NaN</td>\n",
       "      <td>0</td>\n",
       "      <td>Transient</td>\n",
       "      <td>0.0</td>\n",
       "      <td>0</td>\n",
       "      <td>0</td>\n",
       "      <td>Check-Out</td>\n",
       "      <td>2015-07-01</td>\n",
       "    </tr>\n",
       "    <tr>\n",
       "      <td>2</td>\n",
       "      <td>Resort Hotel</td>\n",
       "      <td>0</td>\n",
       "      <td>7</td>\n",
       "      <td>2015</td>\n",
       "      <td>July</td>\n",
       "      <td>27</td>\n",
       "      <td>1</td>\n",
       "      <td>0</td>\n",
       "      <td>1</td>\n",
       "      <td>1</td>\n",
       "      <td>...</td>\n",
       "      <td>No Deposit</td>\n",
       "      <td>NaN</td>\n",
       "      <td>NaN</td>\n",
       "      <td>0</td>\n",
       "      <td>Transient</td>\n",
       "      <td>75.0</td>\n",
       "      <td>0</td>\n",
       "      <td>0</td>\n",
       "      <td>Check-Out</td>\n",
       "      <td>2015-07-02</td>\n",
       "    </tr>\n",
       "    <tr>\n",
       "      <td>3</td>\n",
       "      <td>Resort Hotel</td>\n",
       "      <td>0</td>\n",
       "      <td>13</td>\n",
       "      <td>2015</td>\n",
       "      <td>July</td>\n",
       "      <td>27</td>\n",
       "      <td>1</td>\n",
       "      <td>0</td>\n",
       "      <td>1</td>\n",
       "      <td>1</td>\n",
       "      <td>...</td>\n",
       "      <td>No Deposit</td>\n",
       "      <td>304.0</td>\n",
       "      <td>NaN</td>\n",
       "      <td>0</td>\n",
       "      <td>Transient</td>\n",
       "      <td>75.0</td>\n",
       "      <td>0</td>\n",
       "      <td>0</td>\n",
       "      <td>Check-Out</td>\n",
       "      <td>2015-07-02</td>\n",
       "    </tr>\n",
       "    <tr>\n",
       "      <td>4</td>\n",
       "      <td>Resort Hotel</td>\n",
       "      <td>0</td>\n",
       "      <td>14</td>\n",
       "      <td>2015</td>\n",
       "      <td>July</td>\n",
       "      <td>27</td>\n",
       "      <td>1</td>\n",
       "      <td>0</td>\n",
       "      <td>2</td>\n",
       "      <td>2</td>\n",
       "      <td>...</td>\n",
       "      <td>No Deposit</td>\n",
       "      <td>240.0</td>\n",
       "      <td>NaN</td>\n",
       "      <td>0</td>\n",
       "      <td>Transient</td>\n",
       "      <td>98.0</td>\n",
       "      <td>0</td>\n",
       "      <td>1</td>\n",
       "      <td>Check-Out</td>\n",
       "      <td>2015-07-03</td>\n",
       "    </tr>\n",
       "  </tbody>\n",
       "</table>\n",
       "<p>5 rows × 32 columns</p>\n",
       "</div>"
      ],
      "text/plain": [
       "          hotel  is_canceled  lead_time  arrival_date_year arrival_date_month  \\\n",
       "0  Resort Hotel            0        342               2015               July   \n",
       "1  Resort Hotel            0        737               2015               July   \n",
       "2  Resort Hotel            0          7               2015               July   \n",
       "3  Resort Hotel            0         13               2015               July   \n",
       "4  Resort Hotel            0         14               2015               July   \n",
       "\n",
       "   arrival_date_week_number  arrival_date_day_of_month  \\\n",
       "0                        27                          1   \n",
       "1                        27                          1   \n",
       "2                        27                          1   \n",
       "3                        27                          1   \n",
       "4                        27                          1   \n",
       "\n",
       "   stays_in_weekend_nights  stays_in_week_nights  adults  ...  deposit_type  \\\n",
       "0                        0                     0       2  ...    No Deposit   \n",
       "1                        0                     0       2  ...    No Deposit   \n",
       "2                        0                     1       1  ...    No Deposit   \n",
       "3                        0                     1       1  ...    No Deposit   \n",
       "4                        0                     2       2  ...    No Deposit   \n",
       "\n",
       "   agent company days_in_waiting_list customer_type   adr  \\\n",
       "0    NaN     NaN                    0     Transient   0.0   \n",
       "1    NaN     NaN                    0     Transient   0.0   \n",
       "2    NaN     NaN                    0     Transient  75.0   \n",
       "3  304.0     NaN                    0     Transient  75.0   \n",
       "4  240.0     NaN                    0     Transient  98.0   \n",
       "\n",
       "   required_car_parking_spaces  total_of_special_requests  reservation_status  \\\n",
       "0                            0                          0           Check-Out   \n",
       "1                            0                          0           Check-Out   \n",
       "2                            0                          0           Check-Out   \n",
       "3                            0                          0           Check-Out   \n",
       "4                            0                          1           Check-Out   \n",
       "\n",
       "  reservation_status_date  \n",
       "0              2015-07-01  \n",
       "1              2015-07-01  \n",
       "2              2015-07-02  \n",
       "3              2015-07-02  \n",
       "4              2015-07-03  \n",
       "\n",
       "[5 rows x 32 columns]"
      ]
     },
     "execution_count": 3,
     "metadata": {},
     "output_type": "execute_result"
    }
   ],
   "source": [
    "data.head()"
   ]
  },
  {
   "cell_type": "code",
   "execution_count": 4,
   "metadata": {},
   "outputs": [
    {
     "data": {
      "text/plain": [
       "(119390, 32)"
      ]
     },
     "execution_count": 4,
     "metadata": {},
     "output_type": "execute_result"
    }
   ],
   "source": [
    "data.shape"
   ]
  },
  {
   "cell_type": "code",
   "execution_count": 5,
   "metadata": {},
   "outputs": [
    {
     "data": {
      "text/html": [
       "<div>\n",
       "<style scoped>\n",
       "    .dataframe tbody tr th:only-of-type {\n",
       "        vertical-align: middle;\n",
       "    }\n",
       "\n",
       "    .dataframe tbody tr th {\n",
       "        vertical-align: top;\n",
       "    }\n",
       "\n",
       "    .dataframe thead th {\n",
       "        text-align: right;\n",
       "    }\n",
       "</style>\n",
       "<table border=\"1\" class=\"dataframe\">\n",
       "  <thead>\n",
       "    <tr style=\"text-align: right;\">\n",
       "      <th></th>\n",
       "      <th>data features</th>\n",
       "      <th>dataType</th>\n",
       "      <th>null</th>\n",
       "      <th>nullPct</th>\n",
       "      <th>unique</th>\n",
       "      <th>uniqueSample</th>\n",
       "    </tr>\n",
       "  </thead>\n",
       "  <tbody>\n",
       "    <tr>\n",
       "      <td>0</td>\n",
       "      <td>hotel</td>\n",
       "      <td>object</td>\n",
       "      <td>0</td>\n",
       "      <td>0.0</td>\n",
       "      <td>2</td>\n",
       "      <td>[City Hotel]</td>\n",
       "    </tr>\n",
       "    <tr>\n",
       "      <td>1</td>\n",
       "      <td>is_canceled</td>\n",
       "      <td>int64</td>\n",
       "      <td>0</td>\n",
       "      <td>0.0</td>\n",
       "      <td>2</td>\n",
       "      <td>[1]</td>\n",
       "    </tr>\n",
       "    <tr>\n",
       "      <td>2</td>\n",
       "      <td>lead_time</td>\n",
       "      <td>int64</td>\n",
       "      <td>0</td>\n",
       "      <td>0.0</td>\n",
       "      <td>479</td>\n",
       "      <td>[347]</td>\n",
       "    </tr>\n",
       "    <tr>\n",
       "      <td>3</td>\n",
       "      <td>arrival_date_year</td>\n",
       "      <td>int64</td>\n",
       "      <td>0</td>\n",
       "      <td>0.0</td>\n",
       "      <td>3</td>\n",
       "      <td>[2017]</td>\n",
       "    </tr>\n",
       "    <tr>\n",
       "      <td>4</td>\n",
       "      <td>arrival_date_month</td>\n",
       "      <td>object</td>\n",
       "      <td>0</td>\n",
       "      <td>0.0</td>\n",
       "      <td>12</td>\n",
       "      <td>[May]</td>\n",
       "    </tr>\n",
       "    <tr>\n",
       "      <td>5</td>\n",
       "      <td>arrival_date_week_number</td>\n",
       "      <td>int64</td>\n",
       "      <td>0</td>\n",
       "      <td>0.0</td>\n",
       "      <td>53</td>\n",
       "      <td>[48]</td>\n",
       "    </tr>\n",
       "    <tr>\n",
       "      <td>6</td>\n",
       "      <td>arrival_date_day_of_month</td>\n",
       "      <td>int64</td>\n",
       "      <td>0</td>\n",
       "      <td>0.0</td>\n",
       "      <td>31</td>\n",
       "      <td>[27]</td>\n",
       "    </tr>\n",
       "    <tr>\n",
       "      <td>7</td>\n",
       "      <td>stays_in_weekend_nights</td>\n",
       "      <td>int64</td>\n",
       "      <td>0</td>\n",
       "      <td>0.0</td>\n",
       "      <td>17</td>\n",
       "      <td>[1]</td>\n",
       "    </tr>\n",
       "    <tr>\n",
       "      <td>8</td>\n",
       "      <td>stays_in_week_nights</td>\n",
       "      <td>int64</td>\n",
       "      <td>0</td>\n",
       "      <td>0.0</td>\n",
       "      <td>35</td>\n",
       "      <td>[2]</td>\n",
       "    </tr>\n",
       "    <tr>\n",
       "      <td>9</td>\n",
       "      <td>adults</td>\n",
       "      <td>int64</td>\n",
       "      <td>0</td>\n",
       "      <td>0.0</td>\n",
       "      <td>14</td>\n",
       "      <td>[6]</td>\n",
       "    </tr>\n",
       "    <tr>\n",
       "      <td>10</td>\n",
       "      <td>children</td>\n",
       "      <td>float64</td>\n",
       "      <td>4</td>\n",
       "      <td>0.0</td>\n",
       "      <td>5</td>\n",
       "      <td>[3.0]</td>\n",
       "    </tr>\n",
       "    <tr>\n",
       "      <td>11</td>\n",
       "      <td>babies</td>\n",
       "      <td>int64</td>\n",
       "      <td>0</td>\n",
       "      <td>0.0</td>\n",
       "      <td>5</td>\n",
       "      <td>[1]</td>\n",
       "    </tr>\n",
       "    <tr>\n",
       "      <td>12</td>\n",
       "      <td>meal</td>\n",
       "      <td>object</td>\n",
       "      <td>0</td>\n",
       "      <td>0.0</td>\n",
       "      <td>5</td>\n",
       "      <td>[HB]</td>\n",
       "    </tr>\n",
       "    <tr>\n",
       "      <td>13</td>\n",
       "      <td>country</td>\n",
       "      <td>object</td>\n",
       "      <td>488</td>\n",
       "      <td>0.0</td>\n",
       "      <td>177</td>\n",
       "      <td>[MAC]</td>\n",
       "    </tr>\n",
       "    <tr>\n",
       "      <td>14</td>\n",
       "      <td>market_segment</td>\n",
       "      <td>object</td>\n",
       "      <td>0</td>\n",
       "      <td>0.0</td>\n",
       "      <td>8</td>\n",
       "      <td>[Aviation]</td>\n",
       "    </tr>\n",
       "    <tr>\n",
       "      <td>15</td>\n",
       "      <td>distribution_channel</td>\n",
       "      <td>object</td>\n",
       "      <td>0</td>\n",
       "      <td>0.0</td>\n",
       "      <td>5</td>\n",
       "      <td>[Corporate]</td>\n",
       "    </tr>\n",
       "    <tr>\n",
       "      <td>16</td>\n",
       "      <td>is_repeated_guest</td>\n",
       "      <td>int64</td>\n",
       "      <td>0</td>\n",
       "      <td>0.0</td>\n",
       "      <td>2</td>\n",
       "      <td>[0]</td>\n",
       "    </tr>\n",
       "    <tr>\n",
       "      <td>17</td>\n",
       "      <td>previous_cancellations</td>\n",
       "      <td>int64</td>\n",
       "      <td>0</td>\n",
       "      <td>0.0</td>\n",
       "      <td>15</td>\n",
       "      <td>[1]</td>\n",
       "    </tr>\n",
       "    <tr>\n",
       "      <td>18</td>\n",
       "      <td>previous_bookings_not_canceled</td>\n",
       "      <td>int64</td>\n",
       "      <td>0</td>\n",
       "      <td>0.0</td>\n",
       "      <td>73</td>\n",
       "      <td>[4]</td>\n",
       "    </tr>\n",
       "    <tr>\n",
       "      <td>19</td>\n",
       "      <td>reserved_room_type</td>\n",
       "      <td>object</td>\n",
       "      <td>0</td>\n",
       "      <td>0.0</td>\n",
       "      <td>10</td>\n",
       "      <td>[P]</td>\n",
       "    </tr>\n",
       "    <tr>\n",
       "      <td>20</td>\n",
       "      <td>assigned_room_type</td>\n",
       "      <td>object</td>\n",
       "      <td>0</td>\n",
       "      <td>0.0</td>\n",
       "      <td>12</td>\n",
       "      <td>[E]</td>\n",
       "    </tr>\n",
       "    <tr>\n",
       "      <td>21</td>\n",
       "      <td>booking_changes</td>\n",
       "      <td>int64</td>\n",
       "      <td>0</td>\n",
       "      <td>0.0</td>\n",
       "      <td>21</td>\n",
       "      <td>[12]</td>\n",
       "    </tr>\n",
       "    <tr>\n",
       "      <td>22</td>\n",
       "      <td>deposit_type</td>\n",
       "      <td>object</td>\n",
       "      <td>0</td>\n",
       "      <td>0.0</td>\n",
       "      <td>3</td>\n",
       "      <td>[No Deposit]</td>\n",
       "    </tr>\n",
       "    <tr>\n",
       "      <td>23</td>\n",
       "      <td>agent</td>\n",
       "      <td>float64</td>\n",
       "      <td>16340</td>\n",
       "      <td>0.0</td>\n",
       "      <td>333</td>\n",
       "      <td>[219.0]</td>\n",
       "    </tr>\n",
       "    <tr>\n",
       "      <td>24</td>\n",
       "      <td>company</td>\n",
       "      <td>float64</td>\n",
       "      <td>112593</td>\n",
       "      <td>1.0</td>\n",
       "      <td>352</td>\n",
       "      <td>[282.0]</td>\n",
       "    </tr>\n",
       "    <tr>\n",
       "      <td>25</td>\n",
       "      <td>days_in_waiting_list</td>\n",
       "      <td>int64</td>\n",
       "      <td>0</td>\n",
       "      <td>0.0</td>\n",
       "      <td>128</td>\n",
       "      <td>[79]</td>\n",
       "    </tr>\n",
       "    <tr>\n",
       "      <td>26</td>\n",
       "      <td>customer_type</td>\n",
       "      <td>object</td>\n",
       "      <td>0</td>\n",
       "      <td>0.0</td>\n",
       "      <td>4</td>\n",
       "      <td>[Transient]</td>\n",
       "    </tr>\n",
       "    <tr>\n",
       "      <td>27</td>\n",
       "      <td>adr</td>\n",
       "      <td>float64</td>\n",
       "      <td>0</td>\n",
       "      <td>0.0</td>\n",
       "      <td>8879</td>\n",
       "      <td>[124.7]</td>\n",
       "    </tr>\n",
       "    <tr>\n",
       "      <td>28</td>\n",
       "      <td>required_car_parking_spaces</td>\n",
       "      <td>int64</td>\n",
       "      <td>0</td>\n",
       "      <td>0.0</td>\n",
       "      <td>5</td>\n",
       "      <td>[3]</td>\n",
       "    </tr>\n",
       "    <tr>\n",
       "      <td>29</td>\n",
       "      <td>total_of_special_requests</td>\n",
       "      <td>int64</td>\n",
       "      <td>0</td>\n",
       "      <td>0.0</td>\n",
       "      <td>6</td>\n",
       "      <td>[1]</td>\n",
       "    </tr>\n",
       "    <tr>\n",
       "      <td>30</td>\n",
       "      <td>reservation_status</td>\n",
       "      <td>object</td>\n",
       "      <td>0</td>\n",
       "      <td>0.0</td>\n",
       "      <td>3</td>\n",
       "      <td>[Check-Out]</td>\n",
       "    </tr>\n",
       "    <tr>\n",
       "      <td>31</td>\n",
       "      <td>reservation_status_date</td>\n",
       "      <td>object</td>\n",
       "      <td>0</td>\n",
       "      <td>0.0</td>\n",
       "      <td>926</td>\n",
       "      <td>[2016-02-23]</td>\n",
       "    </tr>\n",
       "  </tbody>\n",
       "</table>\n",
       "</div>"
      ],
      "text/plain": [
       "                     data features dataType    null  nullPct  unique  \\\n",
       "0                            hotel   object       0      0.0       2   \n",
       "1                      is_canceled    int64       0      0.0       2   \n",
       "2                        lead_time    int64       0      0.0     479   \n",
       "3                arrival_date_year    int64       0      0.0       3   \n",
       "4               arrival_date_month   object       0      0.0      12   \n",
       "5         arrival_date_week_number    int64       0      0.0      53   \n",
       "6        arrival_date_day_of_month    int64       0      0.0      31   \n",
       "7          stays_in_weekend_nights    int64       0      0.0      17   \n",
       "8             stays_in_week_nights    int64       0      0.0      35   \n",
       "9                           adults    int64       0      0.0      14   \n",
       "10                        children  float64       4      0.0       5   \n",
       "11                          babies    int64       0      0.0       5   \n",
       "12                            meal   object       0      0.0       5   \n",
       "13                         country   object     488      0.0     177   \n",
       "14                  market_segment   object       0      0.0       8   \n",
       "15            distribution_channel   object       0      0.0       5   \n",
       "16               is_repeated_guest    int64       0      0.0       2   \n",
       "17          previous_cancellations    int64       0      0.0      15   \n",
       "18  previous_bookings_not_canceled    int64       0      0.0      73   \n",
       "19              reserved_room_type   object       0      0.0      10   \n",
       "20              assigned_room_type   object       0      0.0      12   \n",
       "21                 booking_changes    int64       0      0.0      21   \n",
       "22                    deposit_type   object       0      0.0       3   \n",
       "23                           agent  float64   16340      0.0     333   \n",
       "24                         company  float64  112593      1.0     352   \n",
       "25            days_in_waiting_list    int64       0      0.0     128   \n",
       "26                   customer_type   object       0      0.0       4   \n",
       "27                             adr  float64       0      0.0    8879   \n",
       "28     required_car_parking_spaces    int64       0      0.0       5   \n",
       "29       total_of_special_requests    int64       0      0.0       6   \n",
       "30              reservation_status   object       0      0.0       3   \n",
       "31         reservation_status_date   object       0      0.0     926   \n",
       "\n",
       "    uniqueSample  \n",
       "0   [City Hotel]  \n",
       "1            [1]  \n",
       "2          [347]  \n",
       "3         [2017]  \n",
       "4          [May]  \n",
       "5           [48]  \n",
       "6           [27]  \n",
       "7            [1]  \n",
       "8            [2]  \n",
       "9            [6]  \n",
       "10         [3.0]  \n",
       "11           [1]  \n",
       "12          [HB]  \n",
       "13         [MAC]  \n",
       "14    [Aviation]  \n",
       "15   [Corporate]  \n",
       "16           [0]  \n",
       "17           [1]  \n",
       "18           [4]  \n",
       "19           [P]  \n",
       "20           [E]  \n",
       "21          [12]  \n",
       "22  [No Deposit]  \n",
       "23       [219.0]  \n",
       "24       [282.0]  \n",
       "25          [79]  \n",
       "26   [Transient]  \n",
       "27       [124.7]  \n",
       "28           [3]  \n",
       "29           [1]  \n",
       "30   [Check-Out]  \n",
       "31  [2016-02-23]  "
      ]
     },
     "execution_count": 5,
     "metadata": {},
     "output_type": "execute_result"
    }
   ],
   "source": [
    "listItem = []\n",
    "\n",
    "for col in data.columns:\n",
    "    listItem.append([col, data[col].dtype, data[col].isna().sum(), round((data[col].isna().sum())/len(data[col])), \n",
    "                    data[col].nunique(), list(data[col].drop_duplicates().sample().values)])\n",
    "\n",
    "dfDesc = pd.DataFrame(columns=['data features', 'dataType', 'null', 'nullPct', 'unique', 'uniqueSample'], data=listItem)\n",
    "dfDesc"
   ]
  },
  {
   "cell_type": "markdown",
   "metadata": {},
   "source": [
    "#### Findings:\n",
    "- There are null values in the columns = children, country, agent, and company.\n",
    "- The children column data type should be integer instead of float."
   ]
  },
  {
   "cell_type": "markdown",
   "metadata": {},
   "source": [
    "According to the data source, in some categorical variables like Agent or Company, “NULL” is presented as one of the categories. This should not be considered a missing value, but rather as “not applicable”. For example, if a booking “Agent” is defined as “NULL” it means that the booking did not came from a travel agent.\n",
    "<br>\n",
    "\n",
    "So we will replace the missing or undefined values in these columns:\n",
    "- agent: If no agency is given, booking was most likely made without one. We will replace null with 0.\n",
    "- company: If none given, it was most likely private. We will replace null with 0.\n",
    "- children: We will replace null with 0.\n",
    "- country: We will replace null with 'Unknown'.\n",
    "- meal: Contains values 'Undefined', which is equal to SC (no meal package)."
   ]
  },
  {
   "cell_type": "code",
   "execution_count": 6,
   "metadata": {},
   "outputs": [],
   "source": [
    "replacements = {\n",
    "    'children': 0.0, \n",
    "    'country': 'Unknown', \n",
    "    'agent': 0,\n",
    "    'company': 0\n",
    "}\n",
    "data_cleaned = data.fillna(replacements)"
   ]
  },
  {
   "cell_type": "code",
   "execution_count": 7,
   "metadata": {},
   "outputs": [],
   "source": [
    "data_cleaned['meal'].replace('Undefined', 'SC', inplace=True)"
   ]
  },
  {
   "cell_type": "code",
   "execution_count": 8,
   "metadata": {},
   "outputs": [],
   "source": [
    "data_cleaned['children'] = data_cleaned['children'].astype(int)"
   ]
  },
  {
   "cell_type": "markdown",
   "metadata": {},
   "source": [
    "**Some rows contain entries with 0 adults, 0 children and 0 babies. We will drop these entries with no guests.**"
   ]
  },
  {
   "cell_type": "code",
   "execution_count": 9,
   "metadata": {},
   "outputs": [],
   "source": [
    "zero_guest = list(\n",
    "    data_cleaned[data_cleaned['adults'] \n",
    "                 + data_cleaned['children'] \n",
    "                 + data_cleaned['babies'] == 0].index)"
   ]
  },
  {
   "cell_type": "code",
   "execution_count": 10,
   "metadata": {},
   "outputs": [],
   "source": [
    "data_cleaned.drop(data_cleaned.index[zero_guest], inplace=True)"
   ]
  },
  {
   "cell_type": "code",
   "execution_count": 11,
   "metadata": {},
   "outputs": [
    {
     "name": "stdout",
     "output_type": "stream",
     "text": [
      "<class 'pandas.core.frame.DataFrame'>\n",
      "Int64Index: 119210 entries, 0 to 119389\n",
      "Data columns (total 32 columns):\n",
      "hotel                             119210 non-null object\n",
      "is_canceled                       119210 non-null int64\n",
      "lead_time                         119210 non-null int64\n",
      "arrival_date_year                 119210 non-null int64\n",
      "arrival_date_month                119210 non-null object\n",
      "arrival_date_week_number          119210 non-null int64\n",
      "arrival_date_day_of_month         119210 non-null int64\n",
      "stays_in_weekend_nights           119210 non-null int64\n",
      "stays_in_week_nights              119210 non-null int64\n",
      "adults                            119210 non-null int64\n",
      "children                          119210 non-null int64\n",
      "babies                            119210 non-null int64\n",
      "meal                              119210 non-null object\n",
      "country                           119210 non-null object\n",
      "market_segment                    119210 non-null object\n",
      "distribution_channel              119210 non-null object\n",
      "is_repeated_guest                 119210 non-null int64\n",
      "previous_cancellations            119210 non-null int64\n",
      "previous_bookings_not_canceled    119210 non-null int64\n",
      "reserved_room_type                119210 non-null object\n",
      "assigned_room_type                119210 non-null object\n",
      "booking_changes                   119210 non-null int64\n",
      "deposit_type                      119210 non-null object\n",
      "agent                             119210 non-null float64\n",
      "company                           119210 non-null float64\n",
      "days_in_waiting_list              119210 non-null int64\n",
      "customer_type                     119210 non-null object\n",
      "adr                               119210 non-null float64\n",
      "required_car_parking_spaces       119210 non-null int64\n",
      "total_of_special_requests         119210 non-null int64\n",
      "reservation_status                119210 non-null object\n",
      "reservation_status_date           119210 non-null object\n",
      "dtypes: float64(3), int64(17), object(12)\n",
      "memory usage: 30.0+ MB\n"
     ]
    }
   ],
   "source": [
    "data_cleaned.info()"
   ]
  },
  {
   "cell_type": "code",
   "execution_count": 12,
   "metadata": {},
   "outputs": [],
   "source": [
    "data_cleaned.to_csv('data_cleaned.csv', index=False)"
   ]
  },
  {
   "cell_type": "code",
   "execution_count": 13,
   "metadata": {},
   "outputs": [
    {
     "data": {
      "image/png": "[encoded data removed]",
      "text/plain": [
       "<Figure size 576x432 with 1 Axes>"
      ]
     },
     "metadata": {
      "needs_background": "light"
     },
     "output_type": "display_data"
    }
   ],
   "source": [
    "plt.figure(figsize=(8, 6))\n",
    "total = float(len(data_cleaned))\n",
    "ax = sns.countplot(x='hotel', data = data_cleaned)\n",
    "for p in ax.patches:\n",
    "    percentage = '{:.1f}%'.format(100 * p.get_height()/total)\n",
    "    x = p.get_x() + p.get_width()\n",
    "    y = p.get_height()\n",
    "    ax.annotate(percentage, (x, y), ha='center')\n",
    "plt.title('Hotel Types', fontsize=16)\n",
    "plt.xlabel('Hotel', fontsize=12)\n",
    "plt.ylabel('Count', fontsize=12)\n",
    "plt.show()"
   ]
  },
  {
   "cell_type": "markdown",
   "metadata": {},
   "source": [
    "#### Findings:\n",
    "- The dataset contains data from two different hotels; **Resort Hotel** and **City Hotel**. \n",
    "- According to the graph, 33.6% of the data was booked for resort hotel and the rest of was booked for City Hotel.\n",
    "<br>\n",
    "\n",
    "From the publication, we know that both hotels are located in Portugal (southern Europe), the  resort hotel at the resort region of Algarve and the city hotel at the city of Lisbon."
   ]
  },
  {
   "cell_type": "markdown",
   "metadata": {},
   "source": [
    "Then we will create two dataframes for each type of hotel."
   ]
  },
  {
   "cell_type": "code",
   "execution_count": 14,
   "metadata": {},
   "outputs": [],
   "source": [
    "resort = data_cleaned.loc[data_cleaned['hotel'] == 'Resort Hotel']\n",
    "city = data_cleaned.loc[data_cleaned['hotel'] == 'City Hotel']"
   ]
  },
  {
   "cell_type": "markdown",
   "metadata": {},
   "source": [
    "## Exploratory Data Analysis"
   ]
  },
  {
   "cell_type": "markdown",
   "metadata": {},
   "source": [
    "### NUMBER OF GUESTS BY COUNTRIES"
   ]
  },
  {
   "cell_type": "code",
   "execution_count": 15,
   "metadata": {},
   "outputs": [
    {
     "data": {
      "text/plain": [
       "178"
      ]
     },
     "execution_count": 15,
     "metadata": {},
     "output_type": "execute_result"
    }
   ],
   "source": [
    "data_cleaned['country'].nunique()"
   ]
  },
  {
   "cell_type": "code",
   "execution_count": 16,
   "metadata": {},
   "outputs": [],
   "source": [
    "country_data = pd.DataFrame(data_cleaned['country'].value_counts())\n",
    "country_data.rename(columns={'country': 'Number of Guests'}, inplace=True)\n",
    "country_data = country_data[:10]\n",
    "country_data.index.names = ['Country']"
   ]
  },
  {
   "cell_type": "code",
   "execution_count": 17,
   "metadata": {},
   "outputs": [
    {
     "data": {
      "text/html": [
       "<div>\n",
       "<style scoped>\n",
       "    .dataframe tbody tr th:only-of-type {\n",
       "        vertical-align: middle;\n",
       "    }\n",
       "\n",
       "    .dataframe tbody tr th {\n",
       "        vertical-align: top;\n",
       "    }\n",
       "\n",
       "    .dataframe thead th {\n",
       "        text-align: right;\n",
       "    }\n",
       "</style>\n",
       "<table border=\"1\" class=\"dataframe\">\n",
       "  <thead>\n",
       "    <tr style=\"text-align: right;\">\n",
       "      <th></th>\n",
       "      <th>Number of Guests</th>\n",
       "    </tr>\n",
       "    <tr>\n",
       "      <th>Country</th>\n",
       "      <th></th>\n",
       "    </tr>\n",
       "  </thead>\n",
       "  <tbody>\n",
       "    <tr>\n",
       "      <td>PRT</td>\n",
       "      <td>48483</td>\n",
       "    </tr>\n",
       "    <tr>\n",
       "      <td>GBR</td>\n",
       "      <td>12120</td>\n",
       "    </tr>\n",
       "    <tr>\n",
       "      <td>FRA</td>\n",
       "      <td>10401</td>\n",
       "    </tr>\n",
       "    <tr>\n",
       "      <td>ESP</td>\n",
       "      <td>8560</td>\n",
       "    </tr>\n",
       "    <tr>\n",
       "      <td>DEU</td>\n",
       "      <td>7285</td>\n",
       "    </tr>\n",
       "    <tr>\n",
       "      <td>ITA</td>\n",
       "      <td>3761</td>\n",
       "    </tr>\n",
       "    <tr>\n",
       "      <td>IRL</td>\n",
       "      <td>3374</td>\n",
       "    </tr>\n",
       "    <tr>\n",
       "      <td>BEL</td>\n",
       "      <td>2342</td>\n",
       "    </tr>\n",
       "    <tr>\n",
       "      <td>BRA</td>\n",
       "      <td>2222</td>\n",
       "    </tr>\n",
       "    <tr>\n",
       "      <td>NLD</td>\n",
       "      <td>2103</td>\n",
       "    </tr>\n",
       "  </tbody>\n",
       "</table>\n",
       "</div>"
      ],
      "text/plain": [
       "         Number of Guests\n",
       "Country                  \n",
       "PRT                 48483\n",
       "GBR                 12120\n",
       "FRA                 10401\n",
       "ESP                  8560\n",
       "DEU                  7285\n",
       "ITA                  3761\n",
       "IRL                  3374\n",
       "BEL                  2342\n",
       "BRA                  2222\n",
       "NLD                  2103"
      ]
     },
     "execution_count": 17,
     "metadata": {},
     "output_type": "execute_result"
    }
   ],
   "source": [
    "country_data"
   ]
  },
  {
   "cell_type": "markdown",
   "metadata": {},
   "source": [
    "**Findings:** \n",
    "<br>\n",
    "Most of the customers came from Portugal, and top 10 guests country origins are mostly European countries. This makes sense since both hotels are located in Portugal.\n",
    "<br>\n",
    "The top 10 countries are: Portugal, Great Britain, France, Spain, Germany, Italy, Ireland, Belgium, Brazil, and Netherlands."
   ]
  },
  {
   "cell_type": "markdown",
   "metadata": {},
   "source": [
    "### TYPE OF DEPOSITS MADE BY GUESTS"
   ]
  },
  {
   "cell_type": "code",
   "execution_count": 18,
   "metadata": {},
   "outputs": [
    {
     "data": {
      "text/html": [
       "<div>\n",
       "<style scoped>\n",
       "    .dataframe tbody tr th:only-of-type {\n",
       "        vertical-align: middle;\n",
       "    }\n",
       "\n",
       "    .dataframe tbody tr th {\n",
       "        vertical-align: top;\n",
       "    }\n",
       "\n",
       "    .dataframe thead th {\n",
       "        text-align: right;\n",
       "    }\n",
       "</style>\n",
       "<table border=\"1\" class=\"dataframe\">\n",
       "  <thead>\n",
       "    <tr style=\"text-align: right;\">\n",
       "      <th></th>\n",
       "      <th>Number of Guests</th>\n",
       "    </tr>\n",
       "    <tr>\n",
       "      <th>Deposit Type</th>\n",
       "      <th></th>\n",
       "    </tr>\n",
       "  </thead>\n",
       "  <tbody>\n",
       "    <tr>\n",
       "      <td>No Deposit</td>\n",
       "      <td>104461</td>\n",
       "    </tr>\n",
       "    <tr>\n",
       "      <td>Non Refund</td>\n",
       "      <td>14587</td>\n",
       "    </tr>\n",
       "    <tr>\n",
       "      <td>Refundable</td>\n",
       "      <td>162</td>\n",
       "    </tr>\n",
       "  </tbody>\n",
       "</table>\n",
       "</div>"
      ],
      "text/plain": [
       "              Number of Guests\n",
       "Deposit Type                  \n",
       "No Deposit              104461\n",
       "Non Refund               14587\n",
       "Refundable                 162"
      ]
     },
     "execution_count": 18,
     "metadata": {},
     "output_type": "execute_result"
    }
   ],
   "source": [
    "deposit_data = pd.DataFrame(data_cleaned['deposit_type'].value_counts())\n",
    "deposit_data.rename(columns={'deposit_type': 'Number of Guests'}, inplace=True)\n",
    "deposit_data.index.names = ['Deposit Type']\n",
    "deposit_data"
   ]
  },
  {
   "cell_type": "markdown",
   "metadata": {},
   "source": [
    "**Deposit Type:** Indication on if the customer made a deposit to guarantee the booking. This variable can assume three categories:\n",
    "- No Deposit – no deposit was made\n",
    "- Non Refund – a deposit was made in the value of the total stay cost\n",
    "- Refundable – a deposit was made with a value under the total cost of stay"
   ]
  },
  {
   "cell_type": "markdown",
   "metadata": {},
   "source": [
    "**Findings:** Most of the guests made no deposit, followed by the guests who made non-refundable deposits, then the least is the number of guests who made refundable deposits."
   ]
  },
  {
   "cell_type": "markdown",
   "metadata": {},
   "source": [
    "### NUMBER OF REPEATED GUESTS"
   ]
  },
  {
   "cell_type": "code",
   "execution_count": 19,
   "metadata": {},
   "outputs": [
    {
     "data": {
      "image/png": "[encoded data removed]",
      "text/plain": [
       "<Figure size 720x432 with 1 Axes>"
      ]
     },
     "metadata": {
      "needs_background": "light"
     },
     "output_type": "display_data"
    }
   ],
   "source": [
    "plt.figure(figsize=(10,6))\n",
    "total = float(len(data_cleaned))\n",
    "ax = sns.countplot(x=data_cleaned['is_repeated_guest'], order=data_cleaned['is_repeated_guest'].value_counts(ascending=False).index)\n",
    "for p in ax.patches:\n",
    "    percentage = '{:.1f}%'.format(100 * p.get_height()/total)\n",
    "    x = p.get_x() + p.get_width()\n",
    "    y = p.get_height()\n",
    "    ax.annotate(percentage, (x, y), ha='center')\n",
    "plt.title('Number of Repeated Guests', fontdict = {'fontsize':16})\n",
    "plt.xlabel('Repeated Guests')\n",
    "plt.show()"
   ]
  },
  {
   "cell_type": "markdown",
   "metadata": {},
   "source": [
    "**Is Repeated Guests:** Values indicating if the booking name was from a repeated guest (1) or not (0)."
   ]
  },
  {
   "cell_type": "markdown",
   "metadata": {},
   "source": [
    "**Findings:** There are only 3% repeated guests throughout the entire dataset."
   ]
  },
  {
   "cell_type": "markdown",
   "metadata": {},
   "source": [
    "### BOOKINGS BY MARKET SEGMENT"
   ]
  },
  {
   "cell_type": "code",
   "execution_count": 20,
   "metadata": {},
   "outputs": [
    {
     "data": {
      "text/plain": [
       "Online TA        56408\n",
       "Offline TA/TO    24182\n",
       "Groups           19791\n",
       "Direct           12582\n",
       "Corporate         5282\n",
       "Complementary      728\n",
       "Aviation           235\n",
       "Undefined            2\n",
       "Name: market_segment, dtype: int64"
      ]
     },
     "execution_count": 20,
     "metadata": {},
     "output_type": "execute_result"
    }
   ],
   "source": [
    "data_cleaned['market_segment'].value_counts()"
   ]
  },
  {
   "cell_type": "code",
   "execution_count": 21,
   "metadata": {},
   "outputs": [
    {
     "data": {
      "image/png": "[encoded data removed]",
      "text/plain": [
       "<Figure size 1296x360 with 1 Axes>"
      ]
     },
     "metadata": {
      "needs_background": "light"
     },
     "output_type": "display_data"
    }
   ],
   "source": [
    "plt.figure(figsize=(18, 5))\n",
    "total = float(len(data_cleaned))\n",
    "ax = sns.countplot(x='market_segment', \n",
    "                   data=data_cleaned, \n",
    "                   order=data_cleaned['market_segment'].value_counts().index, \n",
    "                   palette='rocket')\n",
    "plt.title('Bookings per Market Segment', fontsize=16)\n",
    "for p in ax.patches:\n",
    "    percentage = '{:.1f}%'.format(100 * p.get_height()/total)\n",
    "    x = p.get_x() + p.get_width()\n",
    "    y = p.get_height()\n",
    "    ax.annotate(percentage, (x, y), ha='center')\n",
    "plt.xlabel('Market Segment')\n",
    "plt.show()"
   ]
  },
  {
   "cell_type": "markdown",
   "metadata": {},
   "source": [
    "**Market Segment:** Market segment designation. In categories, the term “TA” means “Travel Agents” and “TO” means “Tour Operators”."
   ]
  },
  {
   "cell_type": "markdown",
   "metadata": {},
   "source": [
    "**Findings:**\n",
    "<br>\n",
    "The statistics show that online hotel and reservations are increased in recent years. Most people complete their reservation via their smartphones. The above graph summarized these statistics. More than 45% of bookings are made via Online Travel Agents and around 20% of bookings made via Offline Travel Agents."
   ]
  },
  {
   "cell_type": "markdown",
   "metadata": {},
   "source": [
    "### HOW LONG DO PEOPLE STAY AT THE HOTELS?"
   ]
  },
  {
   "cell_type": "code",
   "execution_count": 22,
   "metadata": {},
   "outputs": [],
   "source": [
    "resort['total_nights'] = resort['stays_in_weekend_nights'] + resort['stays_in_week_nights']\n",
    "city['total_nights'] = city['stays_in_weekend_nights'] + city['stays_in_week_nights']"
   ]
  },
  {
   "cell_type": "code",
   "execution_count": 23,
   "metadata": {},
   "outputs": [],
   "source": [
    "num_nights_resort = list(resort['total_nights'].value_counts().index)\n",
    "num_bookings_resort = list(resort['total_nights'].value_counts())\n",
    "percent_nights_resort = resort['total_nights'].value_counts() / sum(num_bookings_resort) * 100"
   ]
  },
  {
   "cell_type": "code",
   "execution_count": 24,
   "metadata": {},
   "outputs": [],
   "source": [
    "num_nights_city = list(city['total_nights'].value_counts().index)\n",
    "num_bookings_city = list(city['total_nights'].value_counts())\n",
    "percent_nights_city = city['total_nights'].value_counts() / sum(num_bookings_city) * 100"
   ]
  },
  {
   "cell_type": "code",
   "execution_count": 25,
   "metadata": {},
   "outputs": [],
   "source": [
    "resort_nights = pd.DataFrame({'hotel': 'Resort Hotel',\n",
    "                           'num_nights': num_nights_resort,\n",
    "                           'relative_bookings': percent_nights_resort})\n",
    "\n",
    "city_nights = pd.DataFrame({'hotel': 'City Hotel',\n",
    "                           'num_nights': num_nights_city,\n",
    "                           'relative_bookings': percent_nights_city})\n",
    "\n",
    "nights_data = pd.concat([resort_nights, city_nights], ignore_index=True)"
   ]
  },
  {
   "cell_type": "code",
   "execution_count": 26,
   "metadata": {},
   "outputs": [
    {
     "data": {
      "image/png": "[encoded data removed]",
      "text/plain": [
       "<Figure size 1152x576 with 1 Axes>"
      ]
     },
     "metadata": {
      "needs_background": "light"
     },
     "output_type": "display_data"
    }
   ],
   "source": [
    "plt.figure(figsize=(16, 8))\n",
    "sns.barplot(x = 'num_nights', y='relative_bookings', hue='hotel', data=nights_data, \n",
    "            hue_order = ['City Hotel', 'Resort Hotel'])\n",
    "plt.title('Length of Stay', fontsize=16)\n",
    "plt.xlabel('Number of Nights', fontsize=16)\n",
    "plt.ylabel('Guests [%]', fontsize=16)\n",
    "plt.legend(loc='upper right')\n",
    "plt.xlim(0, 22)\n",
    "plt.show()"
   ]
  },
  {
   "cell_type": "code",
   "execution_count": 27,
   "metadata": {},
   "outputs": [
    {
     "name": "stdout",
     "output_type": "stream",
     "text": [
      "On average, guests of the City hotel stay 3 nights, and 48 at maximum.\n",
      "On average, guests of the Resort hotel stay 4 nights, and 69 at maximum.\n"
     ]
    }
   ],
   "source": [
    "avg_nights_res = sum(list((resort_nights['num_nights'] * (resort_nights['relative_bookings']/100)).values))\n",
    "avg_nights_city = sum(list((city_nights['num_nights'] * (city_nights['relative_bookings']/100)).values))\n",
    "print(\"On average, guests of the City hotel stay {:.0f} nights, and {} at maximum.\".format(avg_nights_city,city_nights['num_nights'].max()))\n",
    "print(\"On average, guests of the Resort hotel stay {:.0f} nights, and {} at maximum.\".format(avg_nights_res, resort_nights['num_nights'].max()))"
   ]
  },
  {
   "cell_type": "markdown",
   "metadata": {},
   "source": [
    "**Findings:**\n",
    "<br>\n",
    "- For the city hotel there is a clear preference for 1-4 nights.\n",
    "- For the resort hotel, 1-4 nights are also often booked, but 7 nights also stand out as being very popular."
   ]
  },
  {
   "cell_type": "markdown",
   "metadata": {},
   "source": [
    "### HOW MUCH DO GUESTS PAY FOR A ROOM PER NIGHT?"
   ]
  },
  {
   "cell_type": "markdown",
   "metadata": {},
   "source": [
    "Both hotels have different room types and different meal arrangements. Seasonal factors are also important. So the prices vary a lot.\n",
    "Since no currency information is given, but Portugal is part of the European Monetary Union, I assume that all prices are in EUR."
   ]
  },
  {
   "cell_type": "markdown",
   "metadata": {},
   "source": [
    "**adr: Average Daily Rate**, measures the average rental revenue earned for an occupied room per day. It is measured as the total revenues generated by all the occupied rooms in a hotel or lodge divided by the total number of occupied rooms over a given time period. "
   ]
  },
  {
   "cell_type": "code",
   "execution_count": 28,
   "metadata": {},
   "outputs": [
    {
     "name": "stdout",
     "output_type": "stream",
     "text": [
      "From all bookings, across all room types and meals, the average prices are:\n",
      "Resort hotel: 94.98 € per night.\n",
      "City hotel: 105.50 € per night.\n"
     ]
    }
   ],
   "source": [
    "print(\"\"\"From all bookings, across all room types and meals, the average prices are:\n",
    "Resort hotel: {:.2f} € per night.\n",
    "City hotel: {:.2f} € per night.\"\"\".format(resort['adr'].mean(), city['adr'].mean()))"
   ]
  },
  {
   "cell_type": "code",
   "execution_count": 29,
   "metadata": {},
   "outputs": [],
   "source": [
    "resort['adr_pp'] = resort['adr'] / (resort['adults'] + resort['children'])\n",
    "city['adr_pp'] = city['adr'] / (city['adults'] + city['children'])"
   ]
  },
  {
   "cell_type": "code",
   "execution_count": 30,
   "metadata": {},
   "outputs": [
    {
     "name": "stdout",
     "output_type": "stream",
     "text": [
      "From all bookings, across all room types and meals, the average prices are:\n",
      "Resort hotel: 48.48 € per night per person.\n",
      "City hotel: 58.49 € per night per person.\n"
     ]
    }
   ],
   "source": [
    "print(\"\"\"From all bookings, across all room types and meals, the average prices are:\n",
    "Resort hotel: {:.2f} € per night per person.\n",
    "City hotel: {:.2f} € per night per person.\"\"\".format(resort['adr_pp'].mean(), city['adr_pp'].mean()))"
   ]
  },
  {
   "cell_type": "code",
   "execution_count": 31,
   "metadata": {},
   "outputs": [
    {
     "data": {
      "image/png": "[encoded data removed]",
      "text/plain": [
       "<Figure size 432x288 with 1 Axes>"
      ]
     },
     "metadata": {
      "needs_background": "light"
     },
     "output_type": "display_data"
    }
   ],
   "source": [
    "# plt.figure(figsize=(15, 8))\n",
    "sns.boxplot(x='hotel',\n",
    "            y='adr',\n",
    "            data=data_cleaned, \n",
    "            hue_order=['City Hotel', 'Resort Hotel'],\n",
    "            fliersize=0)\n",
    "plt.title('Price of Hotel Types per Night', fontsize=16)\n",
    "plt.xlabel('Hotel', fontsize=16)\n",
    "plt.ylabel('Price [EUR]', fontsize=16)\n",
    "plt.ylim(-20, 300)\n",
    "plt.show()"
   ]
  },
  {
   "cell_type": "markdown",
   "metadata": {},
   "source": [
    "The Resort Hotel price has lower median, but higher variability (more dispersed data) compared to the City Hotel. This could be because the price for resort hotel is more likely to be affected by seasons. \n",
    "<br>\n",
    "Later we will se how the prices vary over the years."
   ]
  },
  {
   "cell_type": "code",
   "execution_count": 32,
   "metadata": {},
   "outputs": [
    {
     "data": {
      "image/png": "[encoded data removed]",
      "text/plain": [
       "<Figure size 1080x576 with 1 Axes>"
      ]
     },
     "metadata": {
      "needs_background": "light"
     },
     "output_type": "display_data"
    }
   ],
   "source": [
    "plt.figure(figsize=(15, 8))\n",
    "sns.boxplot(x='reserved_room_type',\n",
    "            y='adr',\n",
    "            hue='hotel',\n",
    "            data=data_cleaned, \n",
    "            hue_order=['City Hotel', 'Resort Hotel'],\n",
    "            fliersize=0)\n",
    "plt.title('Price of Room Types per night', fontsize=16)\n",
    "plt.xlabel('Room Type', fontsize=16)\n",
    "plt.ylabel('Price [EUR]', fontsize=16)\n",
    "plt.legend(loc='upper right')\n",
    "plt.ylim(-20, 400)\n",
    "plt.show()"
   ]
  },
  {
   "cell_type": "markdown",
   "metadata": {},
   "source": [
    "This figure shows the average price per room depending on its type.\n",
    "Note that due to data anonymization rooms with the same type letter may not necessarily be the same across hotels.\n",
    "<br>\n",
    "In general, room type A and B has the lowest price for both resort and city hotel. Also we can see that the city hotel is more expensive than resort hotel accross different room types, with the exception of room type B and C."
   ]
  },
  {
   "cell_type": "markdown",
   "metadata": {},
   "source": [
    "### HOW DOES THE PRICE PER NIGHT VARY OVER THE YEARS?"
   ]
  },
  {
   "cell_type": "code",
   "execution_count": 33,
   "metadata": {},
   "outputs": [],
   "source": [
    "room_prices_mothly = data_cleaned[['hotel', 'arrival_date_month', 'adr']].sort_values('arrival_date_month')"
   ]
  },
  {
   "cell_type": "markdown",
   "metadata": {},
   "source": [
    "Order the data by month:"
   ]
  },
  {
   "cell_type": "code",
   "execution_count": 34,
   "metadata": {},
   "outputs": [],
   "source": [
    "ordered_months = ['January', 'February', 'March', 'April', 'May', 'June', \n",
    "            'July', 'August', 'September', 'October', 'November', 'December']\n",
    "room_prices_mothly['arrival_date_month'] = pd.Categorical(\n",
    "            room_prices_mothly['arrival_date_month'], categories=ordered_months, ordered=True)"
   ]
  },
  {
   "cell_type": "code",
   "execution_count": 35,
   "metadata": {},
   "outputs": [
    {
     "data": {
      "image/png": "[encoded data removed]",
      "text/plain": [
       "<Figure size 864x576 with 1 Axes>"
      ]
     },
     "metadata": {
      "needs_background": "light"
     },
     "output_type": "display_data"
    }
   ],
   "source": [
    "plt.figure(figsize=(12, 8))\n",
    "sns.lineplot(x = 'arrival_date_month', y='adr', hue='hotel', data=room_prices_mothly, \n",
    "            hue_order = ['City Hotel', 'Resort Hotel'])\n",
    "plt.title('Room Price per Night Over the Year', fontsize=16)\n",
    "plt.xlabel('Month', fontsize=16)\n",
    "plt.xticks(rotation=45)\n",
    "plt.ylabel('Price [EUR]', fontsize=16)\n",
    "plt.show()"
   ]
  },
  {
   "cell_type": "markdown",
   "metadata": {},
   "source": [
    "**Findings:**\n",
    "- This clearly shows that the prices in the Resort hotel are much higher during the summer, which is not surprising.\n",
    "- The price of the city hotel varies less and is most expensive during spring, then summer."
   ]
  },
  {
   "cell_type": "markdown",
   "metadata": {},
   "source": [
    "### AVERAGE DAILY RATE BY MARKET SEGMENT"
   ]
  },
  {
   "cell_type": "code",
   "execution_count": 36,
   "metadata": {},
   "outputs": [
    {
     "data": {
      "image/png": "[encoded data removed]",
      "text/plain": [
       "<Figure size 864x576 with 1 Axes>"
      ]
     },
     "metadata": {
      "needs_background": "light"
     },
     "output_type": "display_data"
    }
   ],
   "source": [
    "plt.figure(figsize=(12, 8))\n",
    "sns.barplot(x='market_segment',\n",
    "            y='adr',\n",
    "            data=data_cleaned\n",
    "           )\n",
    "plt.title(\"ADR by Market Segment\", fontsize=16)\n",
    "plt.xlabel(\"Market Segment\", fontsize=16)\n",
    "plt.xticks(rotation=45)\n",
    "plt.ylabel(\"Average Daily Rate [EUR]\", fontsize=16)\n",
    "plt.show()"
   ]
  },
  {
   "cell_type": "markdown",
   "metadata": {},
   "source": [
    "The segment who gets the most expensive rate is the online travel agent. This is saying a lot because most of the bookings came from them (47.3%). The price is higher, yet people still choose them, probably for the convenience. "
   ]
  }
 ],
 "metadata": {
  "kernelspec": {
   "display_name": "Python 3",
   "language": "python",
   "name": "python3"
  },
  "language_info": {
   "codemirror_mode": {
    "name": "ipython",
    "version": 3
   },
   "file_extension": ".py",
   "mimetype": "text/x-python",
   "name": "python",
   "nbconvert_exporter": "python",
   "pygments_lexer": "ipython3",
   "version": "3.7.4"
  }
 },
 "nbformat": 4,
 "nbformat_minor": 2
}
